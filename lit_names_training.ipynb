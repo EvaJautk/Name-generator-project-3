{
  "cells": [
    {
      "cell_type": "markdown",
      "metadata": {},
      "source": [
        "This notebook trains a minimal Transformer-based model for generating Lithuanian names based on gender."
      ]
    },
    {
      "cell_type": "code",
      "execution_count": null,
      "metadata": {
        "id": "import_libraries"
      },
      "outputs": [],
      "source": [
        "import torch\n",
        "import torch.nn as nn\n",
        "import torch.optim as optim\n",
        "import pandas as pd\n",
        "from torch.utils.data import DataLoader, Dataset\n",
        "from torch.nn.utils.rnn import pad_sequence\n",
        "import requests\n",
        "from bs4 import BeautifulSoup"
      ]
    },
    {
      "cell_type": "markdown",
      "metadata": {},
      "source": [
        "### Scrape Lithuanian Names from VLKK Website"
      ]
    },
    {
      "cell_type": "code",
      "execution_count": null,
      "metadata": {
        "id": "scrape_names"
      },
      "outputs": [],
      "source": [
        "names = []\n",
        "\n",
        "for key in ['a', 'b', 'c', 'c-2', 'd', 'e', 'f', 'g', 'h', 'i', 'j', 'k', 'l',\n",
        "            'm', 'n', 'o', 'p', 'r', 's', 's-2', 't', 'u', 'v', 'z', 'z-2']:\n",
        "    url = f'https://vardai.vlkk.lt/sarasas/{key}/'\n",
        "    response = requests.get(url)\n",
        "    soup = BeautifulSoup(response.text, 'html.parser')\n",
        "\n",
        "    male_links = soup.find_all('a', class_='names_list__links names_list__links--man')\n",
        "    for link in male_links:\n",
        "        names.append({'name': link.text, 'gender': 'male'})\n",
        "\n",
        "    female_links = soup.find_all('a', class_='names_list__links names_list__links--woman')\n",
        "    for link in female_links:\n",
        "        names.append({'name': link.text, 'gender': 'female'})\n",
        "\n",
        "df = pd.DataFrame(names)\n",
        "df.to_csv('lithuanian_names.csv', index=False)"
      ]
    },
    {
      "cell_type": "markdown",
      "metadata": {},
      "source": [
        "### Dataset Class and DataLoader"
      ]
    },
    {
      "cell_type": "code",
      "execution_count": null,
      "metadata": {
        "id": "dataset_dataloader"
      },
      "outputs": [],
      "source": [
        "class NameDataset(Dataset):\n",
        "    def __init__(self, csv_file):\n",
        "        data = pd.read_csv(csv_file)\n",
        "        self.names = data['name'].values\n",
        "        self.genders = data['gender'].values\n",
        "\n",
        "        self.chars = sorted(list(set(''.join(self.names) + ' ')))\n",
        "        self.char_to_int = {c: i for i, c in enumerate(self.chars)}\n",
        "        self.int_to_char = {i: c for c, i in self.char_to_int.items()}\n",
        "        self.vocab_size = len(self.chars)\n",
        "\n",
        "        self.gender_to_int = {'male': 0, 'female': 1}\n",
        "        self.int_to_gender = {0: 'male', 1: 'female'}\n",
        "\n",
        "    def __len__(self):\n",
        "        return len(self.names)\n",
        "\n",
        "    def __getitem__(self, idx):\n",
        "        name = self.names[idx] + ' '\n",
        "        gender = self.genders[idx]\n",
        "\n",
        "        encoded_name = [self.char_to_int[char] for char in name]\n",
        "        encoded_gender = self.gender_to_int[gender]\n",
        "\n",
        "        return torch.tensor(encoded_name), torch.tensor(encoded_gender)\n",
        "\n",
        "def pad_collate(batch):\n",
        "    names, genders = zip(*batch)\n",
        "    padded_seqs = pad_sequence(names, batch_first=True, padding_value=0)\n",
        "    input_seq = padded_seqs[:, :-1]\n",
        "    target_seq = padded_seqs[:, 1:]\n",
        "    genders = torch.stack(genders)\n",
        "    return input_seq, target_seq, genders\n",
        "\n",
        "dataset = NameDataset('lithuanian_names.csv')\n",
        "dataloader = DataLoader(dataset, batch_size=32, shuffle=True, collate_fn=pad_collate)"
      ]
    },
    {
      "cell_type": "markdown",
      "metadata": {},
      "source": [
        "### Define Minimal Transformer Model"
      ]
    },
    {
      "cell_type": "code",
      "execution_count": null,
      "metadata": {
        "id": "model_definition"
      },
      "outputs": [],
      "source": [
        "class MinimalTransformer(nn.Module):\n",
        "    def __init__(self, vocab_size, embed_size, num_heads, forward_expansion, gender_size):\n",
        "        super(MinimalTransformer, self).__init__()\n",
        "        self.embed = nn.Embedding(vocab_size, embed_size)\n",
        "        self.gender_embed = nn.Embedding(gender_size, embed_size)\n",
        "        self.positional_encoding = nn.Parameter(torch.randn(1, 100, embed_size))\n",
        "        self.encoder_layer = nn.TransformerEncoderLayer(d_model=embed_size, nhead=num_heads)\n",
        "        self.transformer_encoder = nn.TransformerEncoder(self.encoder_layer, num_layers=1)\n",
        "        self.output_layer = nn.Linear(embed_size, vocab_size)\n",
        "\n",
        "    def forward(self, x, gender):\n",
        "        gender_emb = self.gender_embed(gender).unsqueeze(1).expand(-1, x.size(1), -1)\n",
        "        positions = torch.arange(0, x.size(1)).unsqueeze(0)\n",
        "        x = self.embed(x) + self.positional_encoding[:, :x.size(1), :] + gender_emb\n",
        "        x = self.transformer_encoder(x)\n",
        "        x = self.output_layer(x)\n",
        "        return x"
      ]
    },
    {
      "cell_type": "markdown",
      "metadata": {},
      "source": [
        "### Training Loop"
      ]
    },
    {
      "cell_type": "code",
      "execution_count": null,
      "metadata": {
        "id": "training_loop"
      },
      "outputs": [],
      "source": [
        "def train_model(model, dataloader, epochs=200):\n",
        "    criterion = nn.CrossEntropyLoss()\n",
        "    optimizer = optim.Adam(model.parameters())\n",
        "\n",
        "    for epoch in range(epochs):\n",
        "        model.train()\n",
        "        total_loss = 0.0\n",
        "        for input_seq, target_seq, gender in dataloader:\n",
        "            optimizer.zero_grad()\n",
        "            output = model(input_seq, gender)\n",
        "            loss = criterion(output.transpose(1, 2), target_seq)\n",
        "            loss.backward()\n",
        "            optimizer.step()\n",
        "            total_loss += loss.item()\n",
        "        print(f\"Epoch {epoch+1}, Average Loss: {total_loss / len(dataloader)}\")\n",
        "\n",
        "def sample(model, dataset, start_str='A', gender='male', max_length=20):\n",
        "    model.eval()\n",
        "    with torch.no_grad():\n",
        "        chars = [dataset.char_to_int[c] for c in start_str]\n",
        "        input_seq = torch.tensor(chars).unsqueeze(0)\n",
        "        gender_tensor = torch.tensor([dataset.gender_to_int[gender]])\n",
        "        result = start_str\n",
        "        for _ in range(max_length):\n",
        "            output = model(input_seq, gender_tensor)\n",
        "            output = torch.softmax(output[:, -1, :], dim=-1)\n",
        "            next_char_idx = torch.multinomial(output, num_samples=1).item()\n",
        "            next_char = dataset.int_to_char[next_char_idx]\n",
        "            if next_char == ' ':\n",
        "                break\n",
        "            result += next_char\n",
        "            input_seq = torch.cat([input_seq, torch.tensor([[next_char_idx]])], dim=1)\n",
        "        return result\n",
        "\n",
        "model = MinimalTransformer(dataset.vocab_size, embed_size=32, num_heads=2, forward_expansion=4, gender_size=2)\n",
        "train_model(model, dataloader, epochs=200)"
      ]
    },
    {
      "cell_type": "markdown",
      "metadata": {},
      "source": [
        "### Sample Generated Names"
      ]
    },
    {
      "cell_type": "code",
      "execution_count": null,
      "metadata": {
        "id": "generate_samples"
      },
      "outputs": [
        {
          "data": {
            "text/plain": [
              "Generated Male Name: Tomas",
              "Generated Female Name: Ieva"
            ]
          },
          "execution_count": 14,
          "metadata": {},
          "output_type": "execute_result"
        }
      ],
      "source": [
        "male_name = sample(model, dataset, start_str='T', gender='male')\n",
        "female_name = sample(model, dataset, start_str='I', gender='female')\n",
        "print(f'Generated Male Name: {male_name}')\n",
        "print(f'Generated Female Name: {female_name}')"
      ]
    },
    {
      "cell_type": "code",
      "execution_count": null,
      "metadata": {},
      "outputs": [
        {
          "data": {
            "text/plain": [
              "Epoch 1, Average Loss: 1.4913895290359678",
              "Epoch 2, Average Loss: 1.3163452709145225",
              "Epoch 3, Average Loss: 1.3060753943891865",
              "...",  
              "Epoch 200, Average Loss: 1.2050035916298274",
              "Conservative male names:",
              "Ralinijus",
              "Rengas",
              "Ralvas",
              "Rìris",
              "Raũgijus",
              "Creative female names:",
              "Salgicira",
              "Sássė",
              "Slávkò",
              "Smėlonia",
              "Stanensara"
            ]
          }
        }
      ],
      "source": [
        "train_model(model, dataloader, epochs=200)"
      ]
    }
  ],
  "metadata": {
    "kernelspec": {
      "display_name": "Python 3",
      "language": "python",
      "name": "python3"
    },
    "language_info": {
      "codemirror_mode": {
        "name": "ipython",
        "version": 3
      },
      "file_extension": ".py",
      "mimetype": "text/x-python",
      "name": "python",
      "nbconvert_exporter": "python",
      "pygments_lexer": "ipython3",
      "version": "3.10"
    }
  },
  "nbformat": 4,
  "nbformat_minor": 5
}
